{
  "nbformat": 4,
  "nbformat_minor": 5,
  "metadata": {
    "kernelspec": {
      "display_name": "Python 3",
      "language": "python",
      "name": "python3"
    },
    "language_info": {
      "codemirror_mode": {
        "name": "ipython",
        "version": 3
      },
      "file_extension": ".py",
      "mimetype": "text/x-python",
      "name": "python",
      "nbconvert_exporter": "python",
      "pygments_lexer": "ipython3",
      "version": "3.8.8"
    },
    "colab": {
      "name": "PySpark_Big_Data.ipynb",
      "provenance": [],
      "collapsed_sections": []
    }
  },
  "cells": [
    {
      "cell_type": "markdown",
      "metadata": {
        "id": "abbf1e33"
      },
      "source": [
        "\n",
        "<b><font color='blue'>AI-PRO Spark Team ITI</font></b>"
      ],
      "id": "abbf1e33"
    },
    {
      "cell_type": "markdown",
      "metadata": {
        "id": "8326ba88"
      },
      "source": [
        "## Objective:\n",
        "- The objective from this project is to create a <b>Logistic Regression Classifier</b> to predict the <b>Stroke Condition</b>.\n",
        "- <b>Stoke</b> is a condition in which either the blood flow to the brain stops or blood flow is excessive.\n",
        "- It is required to obtain <b>ROC > 0.65</b>."
      ],
      "id": "8326ba88"
    },
    {
      "cell_type": "markdown",
      "metadata": {
        "id": "0eb78c16"
      },
      "source": [
        "### Data:\n",
        "- Data is provided in csv format in a file named <b>healthcare-dataset-stroke-data.csv</b>"
      ],
      "id": "0eb78c16"
    },
    {
      "cell_type": "markdown",
      "metadata": {
        "id": "7c842b79"
      },
      "source": [
        "### Column names and data types are as follow:\n",
        "- id, integer.\n",
        "- gender, string.\n",
        "- age, double.\n",
        "- hypertension, integer.\n",
        "- heart_disease, integer.\n",
        "- ever_married, string.\n",
        "- work_type, string.\n",
        "- Residence_type, string.\n",
        "- avg_glucose_level, double.\n",
        "- bmi, double.\n",
        "- smoking_status, string.\n",
        "- stroke, integer <b>(Target Label)</b>.\n",
        "If the person has stroke the stroke label value is <b>\"1\"</b> otherwise <b>\"0\"</b>."
      ],
      "id": "7c842b79"
    },
    {
      "cell_type": "markdown",
      "metadata": {
        "id": "6971f788"
      },
      "source": [
        "## To perform this task follow the following guiding steps:"
      ],
      "id": "6971f788"
    },
    {
      "cell_type": "code",
      "metadata": {
        "colab": {
          "base_uri": "https://localhost:8080/"
        },
        "id": "KfIAUxE-sqTi",
        "outputId": "49c04a41-2e38-4821-afec-198bc3ec4d13"
      },
      "source": [
        "pip install pyspark"
      ],
      "id": "KfIAUxE-sqTi",
      "execution_count": null,
      "outputs": [
        {
          "output_type": "stream",
          "name": "stdout",
          "text": [
            "Requirement already satisfied: pyspark in /usr/local/lib/python3.7/dist-packages (3.2.0)\n",
            "Requirement already satisfied: py4j==0.10.9.2 in /usr/local/lib/python3.7/dist-packages (from pyspark) (0.10.9.2)\n"
          ]
        }
      ]
    },
    {
      "cell_type": "markdown",
      "metadata": {
        "id": "e31bc851"
      },
      "source": [
        "### Create a spark session and import the required libraries"
      ],
      "id": "e31bc851"
    },
    {
      "cell_type": "code",
      "metadata": {
        "id": "ab3ba311"
      },
      "source": [
        "\n",
        "import pyspark\n",
        "\n",
        "from pyspark.sql import SparkSession \n",
        "\n",
        "from pyspark.sql.functions import col,isnan,when,count,mean,when\n",
        "import pyspark.sql.functions as F\n",
        "\n",
        "\n",
        "#from pyspark.sql.functions import *\n",
        "from pyspark.sql.types import StructType,StructField, IntegerType, StringType,DoubleType\n",
        "\n",
        "\n",
        "\n"
      ],
      "id": "ab3ba311",
      "execution_count": null,
      "outputs": []
    },
    {
      "cell_type": "code",
      "metadata": {
        "id": "FHcZppYvs59w"
      },
      "source": [
        "spark = SparkSession.builder.appName(\"Stroke\").getOrCreate()"
      ],
      "id": "FHcZppYvs59w",
      "execution_count": null,
      "outputs": []
    },
    {
      "cell_type": "markdown",
      "metadata": {
        "id": "843b8468"
      },
      "source": [
        "### Create a data schema programatically"
      ],
      "id": "843b8468"
    },
    {
      "cell_type": "code",
      "metadata": {
        "id": "8616fe16"
      },
      "source": [
        "Myschema=StructType([\n",
        "                      StructField('id',IntegerType(),True),\n",
        "                      StructField('gender',StringType(),True),\n",
        "                      StructField('age',DoubleType(),True),\n",
        "                      StructField('hypertension',IntegerType(),True),\n",
        "                      StructField('heart_disease',IntegerType(),True),\n",
        "                      StructField('ever_married',StringType(),True),\n",
        "                      StructField('work_type',StringType(),True),\n",
        "                      StructField('Residence_type',StringType(),True),\n",
        "                      StructField('avg_glucose_level',DoubleType(),True),\n",
        "                      StructField('bmi',DoubleType(),True),\n",
        "                      StructField('smoking_status',StringType(),True),\n",
        "                      StructField('stroke',IntegerType(),True),\n",
        "\n",
        "\n",
        "\n",
        "\n",
        "])\n"
      ],
      "id": "8616fe16",
      "execution_count": null,
      "outputs": []
    },
    {
      "cell_type": "markdown",
      "metadata": {
        "id": "2d00718f"
      },
      "source": [
        "### Read the data using the standard DataReader (Key,Value) pairs format\n"
      ],
      "id": "2d00718f"
    },
    {
      "cell_type": "code",
      "metadata": {
        "id": "pWiDLdEqwp_F"
      },
      "source": [
        "df=spark.read.csv(\"/content/healthcare-dataset-stroke-data.csv\", header=True,schema=Myschema)"
      ],
      "id": "pWiDLdEqwp_F",
      "execution_count": null,
      "outputs": []
    },
    {
      "cell_type": "markdown",
      "metadata": {
        "id": "974bc193"
      },
      "source": [
        "### Explore the data \n",
        "\n",
        "- Print the Schema.\n",
        "- Show the first 10 rows from the data.\n",
        "- Explore null values and show how many null values in each column.\n",
        "- Plot a count plot for the target label and <b>notice the graph</b>.\n",
        "- Perform any additional EDA you find useful."
      ],
      "id": "974bc193"
    },
    {
      "cell_type": "code",
      "metadata": {
        "colab": {
          "base_uri": "https://localhost:8080/"
        },
        "id": "353b6f34",
        "outputId": "839bbc4f-1cd2-4ed6-a0f9-8c365a6252db"
      },
      "source": [
        "#the schema\n",
        "df.printSchema()"
      ],
      "id": "353b6f34",
      "execution_count": null,
      "outputs": [
        {
          "output_type": "stream",
          "name": "stdout",
          "text": [
            "root\n",
            " |-- id: integer (nullable = true)\n",
            " |-- gender: string (nullable = true)\n",
            " |-- age: double (nullable = true)\n",
            " |-- hypertension: integer (nullable = true)\n",
            " |-- heart_disease: integer (nullable = true)\n",
            " |-- ever_married: string (nullable = true)\n",
            " |-- work_type: string (nullable = true)\n",
            " |-- Residence_type: string (nullable = true)\n",
            " |-- avg_glucose_level: double (nullable = true)\n",
            " |-- bmi: double (nullable = true)\n",
            " |-- smoking_status: string (nullable = true)\n",
            " |-- stroke: integer (nullable = true)\n",
            "\n"
          ]
        }
      ]
    },
    {
      "cell_type": "code",
      "metadata": {
        "colab": {
          "base_uri": "https://localhost:8080/"
        },
        "id": "kHVpIkA80G7y",
        "outputId": "50785eac-f02c-4e3a-94c8-55a041c6b7a1"
      },
      "source": [
        "#Show the first 10 rows from the data.\n",
        "df.show(10)"
      ],
      "id": "kHVpIkA80G7y",
      "execution_count": null,
      "outputs": [
        {
          "output_type": "stream",
          "name": "stdout",
          "text": [
            "+-----+------+----+------------+-------------+------------+-------------+--------------+-----------------+----+---------------+------+\n",
            "|   id|gender| age|hypertension|heart_disease|ever_married|    work_type|Residence_type|avg_glucose_level| bmi| smoking_status|stroke|\n",
            "+-----+------+----+------------+-------------+------------+-------------+--------------+-----------------+----+---------------+------+\n",
            "| 9046|  Male|67.0|           0|            1|         Yes|      Private|         Urban|           228.69|36.6|formerly smoked|     1|\n",
            "|51676|Female|61.0|           0|            0|         Yes|Self-employed|         Rural|           202.21|null|   never smoked|     1|\n",
            "|31112|  Male|80.0|           0|            1|         Yes|      Private|         Rural|           105.92|32.5|   never smoked|     1|\n",
            "|60182|Female|49.0|           0|            0|         Yes|      Private|         Urban|           171.23|34.4|         smokes|     1|\n",
            "| 1665|Female|79.0|           1|            0|         Yes|Self-employed|         Rural|           174.12|24.0|   never smoked|     1|\n",
            "|56669|  Male|81.0|           0|            0|         Yes|      Private|         Urban|           186.21|29.0|formerly smoked|     1|\n",
            "|53882|  Male|74.0|           1|            1|         Yes|      Private|         Rural|            70.09|27.4|   never smoked|     1|\n",
            "|10434|Female|69.0|           0|            0|          No|      Private|         Urban|            94.39|22.8|   never smoked|     1|\n",
            "|27419|Female|59.0|           0|            0|         Yes|      Private|         Rural|            76.15|null|        Unknown|     1|\n",
            "|60491|Female|78.0|           0|            0|         Yes|      Private|         Urban|            58.57|24.2|        Unknown|     1|\n",
            "+-----+------+----+------------+-------------+------------+-------------+--------------+-----------------+----+---------------+------+\n",
            "only showing top 10 rows\n",
            "\n"
          ]
        }
      ]
    },
    {
      "cell_type": "code",
      "metadata": {
        "colab": {
          "base_uri": "https://localhost:8080/"
        },
        "id": "shuqBlhLUQ8u",
        "outputId": "e55e4cc2-9237-45d4-e7f8-2f1182749b39"
      },
      "source": [
        "df.count()"
      ],
      "id": "shuqBlhLUQ8u",
      "execution_count": null,
      "outputs": [
        {
          "output_type": "execute_result",
          "data": {
            "text/plain": [
              "5110"
            ]
          },
          "metadata": {},
          "execution_count": 13
        }
      ]
    },
    {
      "cell_type": "code",
      "metadata": {
        "colab": {
          "base_uri": "https://localhost:8080/"
        },
        "id": "DHdsVcTg0KaS",
        "outputId": "a08fbe1f-aca4-4a94-b7e6-96c97ef1abd9"
      },
      "source": [
        "null_columns = []\n",
        "for col_name in df.columns:\n",
        "    null_values = df.where(F.col(col_name).isNull()).count()\n",
        "    if(null_values > 0):\n",
        "        null_columns.append((col_name, null_values))\n",
        "print(null_columns)"
      ],
      "id": "DHdsVcTg0KaS",
      "execution_count": null,
      "outputs": [
        {
          "output_type": "stream",
          "name": "stdout",
          "text": [
            "[('bmi', 201)]\n"
          ]
        }
      ]
    },
    {
      "cell_type": "code",
      "metadata": {
        "colab": {
          "base_uri": "https://localhost:8080/"
        },
        "id": "2UE0JPIP31OA",
        "outputId": "a3d1fd45-05ef-46ba-c2db-9a5a2569f076"
      },
      "source": [
        "#the null counts of each coulmn containg null values\n",
        "spark.createDataFrame(null_columns, ['column', 'missing_value']).show()"
      ],
      "id": "2UE0JPIP31OA",
      "execution_count": null,
      "outputs": [
        {
          "output_type": "stream",
          "name": "stdout",
          "text": [
            "+------+-------------+\n",
            "|column|missing_value|\n",
            "+------+-------------+\n",
            "|   bmi|          201|\n",
            "+------+-------------+\n",
            "\n"
          ]
        }
      ]
    },
    {
      "cell_type": "code",
      "metadata": {
        "colab": {
          "base_uri": "https://localhost:8080/"
        },
        "id": "td-RfyUd6G6X",
        "outputId": "4182a9df-cbbb-46ec-d1df-ed9750eba69a"
      },
      "source": [
        "df.toPandas()['stroke'].value_counts()"
      ],
      "id": "td-RfyUd6G6X",
      "execution_count": null,
      "outputs": [
        {
          "output_type": "execute_result",
          "data": {
            "text/plain": [
              "0    4861\n",
              "1     249\n",
              "Name: stroke, dtype: int64"
            ]
          },
          "metadata": {},
          "execution_count": 17
        }
      ]
    },
    {
      "cell_type": "code",
      "metadata": {
        "colab": {
          "base_uri": "https://localhost:8080/",
          "height": 308
        },
        "id": "1tc-Su8u3lDj",
        "outputId": "7be95cff-a607-44d5-ff11-3ef29912463f"
      },
      "source": [
        "#from the graph we notice that the target label is biased and that's bad for the model\n",
        "\n",
        "ax = df.toPandas()['stroke'].value_counts().plot(kind='bar',title=\"count\")\n",
        "ax.set_xlabel(\"stroke\")\n",
        "ax.set_ylabel(\"count\")"
      ],
      "id": "1tc-Su8u3lDj",
      "execution_count": null,
      "outputs": [
        {
          "output_type": "execute_result",
          "data": {
            "text/plain": [
              "Text(0, 0.5, 'count')"
            ]
          },
          "metadata": {},
          "execution_count": 18
        },
        {
          "output_type": "display_data",
          "data": {
            "image/png": "[encoded data removed]",
            "text/plain": [
              "<Figure size 432x288 with 1 Axes>"
            ]
          },
          "metadata": {
            "needs_background": "light"
          }
        }
      ]
    },
    {
      "cell_type": "code",
      "metadata": {
        "colab": {
          "base_uri": "https://localhost:8080/"
        },
        "id": "rAZVKIE5UfAF",
        "outputId": "bfb10b06-109f-462e-82dd-344920fb5fb8"
      },
      "source": [
        "df.count()"
      ],
      "id": "rAZVKIE5UfAF",
      "execution_count": null,
      "outputs": [
        {
          "output_type": "execute_result",
          "data": {
            "text/plain": [
              "5110"
            ]
          },
          "metadata": {},
          "execution_count": 20
        }
      ]
    },
    {
      "cell_type": "markdown",
      "metadata": {
        "id": "59b770cb"
      },
      "source": [
        "### Get the summary statistics of the age column\n",
        "- You will find the minimum age is about <b>0.08</b>.\n",
        "- Remove rows for the age below <b>2 years old</b>."
      ],
      "id": "59b770cb"
    },
    {
      "cell_type": "code",
      "metadata": {
        "colab": {
          "base_uri": "https://localhost:8080/"
        },
        "id": "LhHL3oh77QvS",
        "outputId": "e1d6f0f1-2dcb-4e9e-f15e-4a86d3c5a588"
      },
      "source": [
        "df.select('age').summary().show()"
      ],
      "id": "LhHL3oh77QvS",
      "execution_count": null,
      "outputs": [
        {
          "output_type": "stream",
          "name": "stdout",
          "text": [
            "+-------+------------------+\n",
            "|summary|               age|\n",
            "+-------+------------------+\n",
            "|  count|              5110|\n",
            "|   mean|43.226614481409015|\n",
            "| stddev| 22.61264672311348|\n",
            "|    min|              0.08|\n",
            "|    25%|              25.0|\n",
            "|    50%|              45.0|\n",
            "|    75%|              61.0|\n",
            "|    max|              82.0|\n",
            "+-------+------------------+\n",
            "\n"
          ]
        }
      ]
    },
    {
      "cell_type": "code",
      "metadata": {
        "id": "7pIyLXJ9-iks"
      },
      "source": [
        "#removed below two years old\n",
        "df = df.filter('age >= 2')"
      ],
      "id": "7pIyLXJ9-iks",
      "execution_count": null,
      "outputs": []
    },
    {
      "cell_type": "code",
      "metadata": {
        "colab": {
          "base_uri": "https://localhost:8080/"
        },
        "id": "Gfcp_rP_-1Xz",
        "outputId": "b51721dc-39ce-4557-b072-858b0edcb1aa"
      },
      "source": [
        "df.select('age').summary().show()"
      ],
      "id": "Gfcp_rP_-1Xz",
      "execution_count": null,
      "outputs": [
        {
          "output_type": "stream",
          "name": "stdout",
          "text": [
            "+-------+------------------+\n",
            "|summary|               age|\n",
            "+-------+------------------+\n",
            "|  count|              4990|\n",
            "|   mean| 44.23907815631262|\n",
            "| stddev|21.908077881917443|\n",
            "|    min|               2.0|\n",
            "|    25%|              27.0|\n",
            "|    50%|              45.0|\n",
            "|    75%|              61.0|\n",
            "|    max|              82.0|\n",
            "+-------+------------------+\n",
            "\n"
          ]
        }
      ]
    },
    {
      "cell_type": "markdown",
      "metadata": {
        "id": "bf8c9498"
      },
      "source": [
        "### Working with gender & smoking_status columns:\n",
        "- Select and show the gender & smoking_status columns\n",
        "- Get the distinct values for each column."
      ],
      "id": "bf8c9498"
    },
    {
      "cell_type": "code",
      "metadata": {
        "colab": {
          "base_uri": "https://localhost:8080/"
        },
        "id": "Z9AjIcOT-gyZ",
        "outputId": "fcdb579c-1d58-4e7d-9138-2bc31b4265dc"
      },
      "source": [
        "df.select('gender','smoking_status').show()"
      ],
      "id": "Z9AjIcOT-gyZ",
      "execution_count": null,
      "outputs": [
        {
          "output_type": "stream",
          "name": "stdout",
          "text": [
            "+------+---------------+\n",
            "|gender| smoking_status|\n",
            "+------+---------------+\n",
            "|  Male|formerly smoked|\n",
            "|Female|   never smoked|\n",
            "|  Male|   never smoked|\n",
            "|Female|         smokes|\n",
            "|Female|   never smoked|\n",
            "|  Male|formerly smoked|\n",
            "|  Male|   never smoked|\n",
            "|Female|   never smoked|\n",
            "|Female|        Unknown|\n",
            "|Female|        Unknown|\n",
            "|Female|   never smoked|\n",
            "|Female|         smokes|\n",
            "|Female|         smokes|\n",
            "|  Male|        Unknown|\n",
            "|Female|   never smoked|\n",
            "|Female|   never smoked|\n",
            "|  Male|         smokes|\n",
            "|  Male|         smokes|\n",
            "|Female|   never smoked|\n",
            "|  Male|        Unknown|\n",
            "+------+---------------+\n",
            "only showing top 20 rows\n",
            "\n"
          ]
        }
      ]
    },
    {
      "cell_type": "code",
      "metadata": {
        "colab": {
          "base_uri": "https://localhost:8080/"
        },
        "id": "XwSkw2tT_XJT",
        "outputId": "219dc94f-1c90-4e0f-94bd-9f1d35410ef8"
      },
      "source": [
        "df.select('gender').distinct().show()"
      ],
      "id": "XwSkw2tT_XJT",
      "execution_count": null,
      "outputs": [
        {
          "output_type": "stream",
          "name": "stdout",
          "text": [
            "+------+\n",
            "|gender|\n",
            "+------+\n",
            "|Female|\n",
            "| Other|\n",
            "|  Male|\n",
            "+------+\n",
            "\n"
          ]
        }
      ]
    },
    {
      "cell_type": "code",
      "metadata": {
        "colab": {
          "base_uri": "https://localhost:8080/"
        },
        "id": "CEb3lbVI_vOW",
        "outputId": "c013086f-2712-4192-fa97-96fec247156d"
      },
      "source": [
        "df.select('smoking_status').distinct().show()"
      ],
      "id": "CEb3lbVI_vOW",
      "execution_count": null,
      "outputs": [
        {
          "output_type": "stream",
          "name": "stdout",
          "text": [
            "+---------------+\n",
            "| smoking_status|\n",
            "+---------------+\n",
            "|         smokes|\n",
            "|        Unknown|\n",
            "|   never smoked|\n",
            "|formerly smoked|\n",
            "+---------------+\n",
            "\n"
          ]
        }
      ]
    },
    {
      "cell_type": "markdown",
      "metadata": {
        "id": "850bdfe1"
      },
      "source": [
        "#### Change the string values of the columns into numerical values as follow:\n",
        "1. Gender column:\n",
        "    * Male = 1 \n",
        "    * Female = 0 \n",
        "    * Other = 0 \n",
        "2. Smoking Status column:\n",
        "  * never smoked = 0\n",
        "  * Unknown = 0.5\n",
        "  * formerly smoked = 0.75\n",
        "  * smokes = 1.0\n"
      ],
      "id": "850bdfe1"
    },
    {
      "cell_type": "code",
      "metadata": {
        "id": "CTbBOW9kA_Nu"
      },
      "source": [
        "from pyspark.sql.functions import col, when\n",
        " \n",
        "# map gender with its number\n",
        "\n",
        "df=df.withColumn(\"gender\",\n",
        "                     when(col(\"gender\")=='Male', 1)\n",
        "                     .when(col(\"gender\")=='Female', 0)\n",
        "                     .when(col(\"gender\")=='other', 0))"
      ],
      "id": "CTbBOW9kA_Nu",
      "execution_count": null,
      "outputs": []
    },
    {
      "cell_type": "code",
      "metadata": {
        "id": "hVCf7fc3Cz_F"
      },
      "source": [
        "df=df.withColumn(\"smoking_status\",\n",
        "                     when(col(\"smoking_status\")=='never smoked', 0)\n",
        "                     .when(col(\"smoking_status\")=='Unknown', 0.5)\n",
        "                     .when(col(\"smoking_status\")=='formerly smoked', 0.75)\n",
        "                    .when(col(\"smoking_status\")=='smokes', 1.0)\n",
        "              )"
      ],
      "id": "hVCf7fc3Cz_F",
      "execution_count": null,
      "outputs": []
    },
    {
      "cell_type": "markdown",
      "metadata": {
        "id": "3da38a31"
      },
      "source": [
        "#### Show the output DataFrame\n",
        "- Select and show the gender & smoking_status columns after value changing.\n",
        "- Print schema for the new dataframe."
      ],
      "id": "3da38a31"
    },
    {
      "cell_type": "code",
      "metadata": {
        "colab": {
          "base_uri": "https://localhost:8080/"
        },
        "id": "3MqEytAYA_UI",
        "outputId": "556594e8-438c-4d2e-82f1-0f68d70de6fe"
      },
      "source": [
        "df.select('gender','smoking_status').show()"
      ],
      "id": "3MqEytAYA_UI",
      "execution_count": null,
      "outputs": [
        {
          "output_type": "stream",
          "name": "stdout",
          "text": [
            "+------+--------------+\n",
            "|gender|smoking_status|\n",
            "+------+--------------+\n",
            "|     1|          0.75|\n",
            "|     0|           0.0|\n",
            "|     1|           0.0|\n",
            "|     0|           1.0|\n",
            "|     0|           0.0|\n",
            "|     1|          0.75|\n",
            "|     1|           0.0|\n",
            "|     0|           0.0|\n",
            "|     0|           0.5|\n",
            "|     0|           0.5|\n",
            "|     0|           0.0|\n",
            "|     0|           1.0|\n",
            "|     0|           1.0|\n",
            "|     1|           0.5|\n",
            "|     0|           0.0|\n",
            "|     0|           0.0|\n",
            "|     1|           1.0|\n",
            "|     1|           1.0|\n",
            "|     0|           0.0|\n",
            "|     1|           0.5|\n",
            "+------+--------------+\n",
            "only showing top 20 rows\n",
            "\n"
          ]
        }
      ]
    },
    {
      "cell_type": "code",
      "metadata": {
        "colab": {
          "base_uri": "https://localhost:8080/"
        },
        "id": "355f2ef0",
        "outputId": "04712b01-8583-454e-adc4-245efc8bc995"
      },
      "source": [
        "df.printSchema()"
      ],
      "id": "355f2ef0",
      "execution_count": null,
      "outputs": [
        {
          "output_type": "stream",
          "name": "stdout",
          "text": [
            "root\n",
            " |-- id: integer (nullable = true)\n",
            " |-- gender: integer (nullable = true)\n",
            " |-- age: double (nullable = true)\n",
            " |-- hypertension: integer (nullable = true)\n",
            " |-- heart_disease: integer (nullable = true)\n",
            " |-- ever_married: string (nullable = true)\n",
            " |-- work_type: string (nullable = true)\n",
            " |-- Residence_type: string (nullable = true)\n",
            " |-- avg_glucose_level: double (nullable = true)\n",
            " |-- bmi: double (nullable = true)\n",
            " |-- smoking_status: double (nullable = true)\n",
            " |-- stroke: integer (nullable = true)\n",
            "\n"
          ]
        }
      ]
    },
    {
      "cell_type": "markdown",
      "metadata": {
        "id": "89ce3b77"
      },
      "source": [
        "### Deal with null value according to your data analysis."
      ],
      "id": "89ce3b77"
    },
    {
      "cell_type": "code",
      "metadata": {
        "id": "tokPjue23lH4"
      },
      "source": [
        "# Remove records with missing values in any column and get the number of remaining rows\n",
        "df_none_missing = df.dropna()"
      ],
      "id": "tokPjue23lH4",
      "execution_count": null,
      "outputs": []
    },
    {
      "cell_type": "code",
      "metadata": {
        "colab": {
          "base_uri": "https://localhost:8080/"
        },
        "id": "1mPjkcJr2tMA",
        "outputId": "d4e84fe7-557e-478c-9910-dc837b9b5c13"
      },
      "source": [
        "print(df_none_missing.count())"
      ],
      "id": "1mPjkcJr2tMA",
      "execution_count": null,
      "outputs": [
        {
          "output_type": "stream",
          "name": "stdout",
          "text": [
            "4794\n"
          ]
        }
      ]
    },
    {
      "cell_type": "code",
      "metadata": {
        "id": "JfZoILIj7-pV"
      },
      "source": [
        "#Note: Since the number of rows are still very large so I will choose to remove all rows containing NULLS before entering the data to the model "
      ],
      "id": "JfZoILIj7-pV",
      "execution_count": null,
      "outputs": []
    },
    {
      "cell_type": "code",
      "metadata": {
        "colab": {
          "base_uri": "https://localhost:8080/"
        },
        "id": "90owKO-b75w4",
        "outputId": "ac0a0059-e370-4b6c-e4ab-444f78fde1ef"
      },
      "source": [
        "df.count()"
      ],
      "id": "90owKO-b75w4",
      "execution_count": null,
      "outputs": [
        {
          "output_type": "execute_result",
          "data": {
            "text/plain": [
              "4990"
            ]
          },
          "metadata": {},
          "execution_count": 33
        }
      ]
    },
    {
      "cell_type": "markdown",
      "metadata": {
        "id": "053c429a"
      },
      "source": [
        "### Split the data into training and test dataframes:\n",
        "- Save each dataframe as a parquet file"
      ],
      "id": "053c429a"
    },
    {
      "cell_type": "code",
      "metadata": {
        "colab": {
          "base_uri": "https://localhost:8080/"
        },
        "id": "0236ea8b",
        "outputId": "26dcb877-0d1b-4985-c240-4bdf5d044e72"
      },
      "source": [
        "# Split into training and testing sets in a 80:20 ratio\n",
        "df_train, df_test = df_none_missing.randomSplit([0.8,0.2], seed=42)\n",
        "\n",
        "# Check that training set has around 80% of records\n",
        "training_ratio = df_train.count() / df_none_missing.count()\n",
        "print(training_ratio)\n"
      ],
      "id": "0236ea8b",
      "execution_count": null,
      "outputs": [
        {
          "output_type": "stream",
          "name": "stdout",
          "text": [
            "0.8085106382978723\n"
          ]
        }
      ]
    },
    {
      "cell_type": "code",
      "metadata": {
        "id": "T95oyotQGXyb"
      },
      "source": [
        "df_train.write.parquet(\"/content/train.parquet\") \n",
        "df_test.write.parquet(\"/content/test.parquet\") \n"
      ],
      "id": "T95oyotQGXyb",
      "execution_count": null,
      "outputs": []
    },
    {
      "cell_type": "markdown",
      "metadata": {
        "id": "78fa24da"
      },
      "source": [
        "### Read the saved Train and Test DataFrame:\n",
        "- Use the dataframes you read in the subsequent steps."
      ],
      "id": "78fa24da"
    },
    {
      "cell_type": "code",
      "metadata": {
        "id": "c3f5c1e3"
      },
      "source": [
        "train_df=spark.read.parquet(\"/content/train.parquet\")\n",
        "test_df=spark.read.parquet(\"/content/test.parquet\")"
      ],
      "id": "c3f5c1e3",
      "execution_count": null,
      "outputs": []
    },
    {
      "cell_type": "markdown",
      "metadata": {
        "id": "987b4b40"
      },
      "source": [
        "### Create the model:\n",
        "- Perform feature engineering steps.\n",
        "- Create the logistic regression classifier.\n",
        "- Build the pipeline model that uses all feature engineering steps and the model.\n",
        "- Train the pipeline model using the trainig dataset."
      ],
      "id": "987b4b40"
    },
    {
      "cell_type": "code",
      "metadata": {
        "id": "3278e362"
      },
      "source": [
        "from pyspark.ml.feature import StringIndexer, VectorAssembler,OneHotEncoder\n",
        "from pyspark.ml import Pipeline"
      ],
      "id": "3278e362",
      "execution_count": null,
      "outputs": []
    },
    {
      "cell_type": "code",
      "metadata": {
        "id": "K5-P44QpFysz",
        "colab": {
          "base_uri": "https://localhost:8080/"
        },
        "outputId": "e45c1a48-1032-4536-c2c2-eb98364cce8c"
      },
      "source": [
        "train_df.printSchema()"
      ],
      "id": "K5-P44QpFysz",
      "execution_count": null,
      "outputs": [
        {
          "output_type": "stream",
          "name": "stdout",
          "text": [
            "root\n",
            " |-- id: integer (nullable = true)\n",
            " |-- gender: integer (nullable = true)\n",
            " |-- age: double (nullable = true)\n",
            " |-- hypertension: integer (nullable = true)\n",
            " |-- heart_disease: integer (nullable = true)\n",
            " |-- ever_married: string (nullable = true)\n",
            " |-- work_type: string (nullable = true)\n",
            " |-- Residence_type: string (nullable = true)\n",
            " |-- avg_glucose_level: double (nullable = true)\n",
            " |-- bmi: double (nullable = true)\n",
            " |-- smoking_status: double (nullable = true)\n",
            " |-- stroke: integer (nullable = true)\n",
            "\n"
          ]
        }
      ]
    },
    {
      "cell_type": "code",
      "metadata": {
        "id": "4e41b352"
      },
      "source": [
        "categoricalCols = ['ever_married','work_type','Residence_type']\n",
        "\n",
        "indexOutputCols = [x + \"_Index\" for x in categoricalCols]\n",
        "\n",
        "stringIndexer = StringIndexer(inputCols=categoricalCols,\n",
        "                             outputCols=indexOutputCols,\n",
        "                             handleInvalid='skip')\n"
      ],
      "id": "4e41b352",
      "execution_count": null,
      "outputs": []
    },
    {
      "cell_type": "code",
      "metadata": {
        "id": "106453d7"
      },
      "source": [
        "oheOutputCols = [x + \"_OHE\" for x in categoricalCols]\n",
        "oheEncoder = OneHotEncoder(inputCols=indexOutputCols,\n",
        "                          outputCols=oheOutputCols)\n"
      ],
      "id": "106453d7",
      "execution_count": null,
      "outputs": []
    },
    {
      "cell_type": "code",
      "metadata": {
        "id": "Yf1zquDpHpf3",
        "colab": {
          "base_uri": "https://localhost:8080/"
        },
        "outputId": "6884e49b-fb14-4187-bd7e-4273116c8009"
      },
      "source": [
        "numericCols = [field for (field,dataType) in train_df.dtypes\n",
        "              if ((dataType=='double')& (field!='stroke'))]\n",
        "numericCols.append(\"gender\")\n",
        "numericCols.append(\"hypertension\")\n",
        "numericCols.append(\"heart_disease\")\n",
        "\n",
        "numericCols"
      ],
      "id": "Yf1zquDpHpf3",
      "execution_count": null,
      "outputs": [
        {
          "output_type": "execute_result",
          "data": {
            "text/plain": [
              "['age',\n",
              " 'avg_glucose_level',\n",
              " 'bmi',\n",
              " 'smoking_status',\n",
              " 'gender',\n",
              " 'hypertension',\n",
              " 'heart_disease']"
            ]
          },
          "metadata": {},
          "execution_count": 43
        }
      ]
    },
    {
      "cell_type": "code",
      "metadata": {
        "id": "x9qT0WM0KrcX",
        "colab": {
          "base_uri": "https://localhost:8080/"
        },
        "outputId": "7f27f116-c080-44bf-ccaa-cd22781abbe6"
      },
      "source": [
        "assemblerInputs = oheOutputCols + numericCols\n",
        "assemblerInputs"
      ],
      "id": "x9qT0WM0KrcX",
      "execution_count": null,
      "outputs": [
        {
          "output_type": "execute_result",
          "data": {
            "text/plain": [
              "['ever_married_OHE',\n",
              " 'work_type_OHE',\n",
              " 'Residence_type_OHE',\n",
              " 'age',\n",
              " 'avg_glucose_level',\n",
              " 'bmi',\n",
              " 'smoking_status',\n",
              " 'gender',\n",
              " 'hypertension',\n",
              " 'heart_disease']"
            ]
          },
          "metadata": {},
          "execution_count": 44
        }
      ]
    },
    {
      "cell_type": "code",
      "metadata": {
        "id": "6shof9FrKjv3"
      },
      "source": [
        "from pyspark.ml.feature import VectorAssembler\n",
        "vecAssembler = VectorAssembler(inputCols=assemblerInputs,outputCol='features')"
      ],
      "id": "6shof9FrKjv3",
      "execution_count": null,
      "outputs": []
    },
    {
      "cell_type": "code",
      "metadata": {
        "id": "ssYpGib2Hpu9"
      },
      "source": [
        "# Import LogisticRegression\n",
        "from pyspark.ml.classification import LogisticRegression\n",
        "\n",
        "# Create a LogisticRegression Estimator\n",
        "lr = LogisticRegression(labelCol='stroke',featuresCol='features')\n"
      ],
      "id": "ssYpGib2Hpu9",
      "execution_count": null,
      "outputs": []
    },
    {
      "cell_type": "code",
      "metadata": {
        "id": "1VLRI20WHp4h"
      },
      "source": [
        "# Building the pipeline\n",
        "from pyspark.ml import Pipeline\n",
        "\n",
        "\n",
        "pipeline =Pipeline(stages = [stringIndexer,oheEncoder,vecAssembler,lr])\n",
        "pipelineModel = pipeline.fit(train_df)"
      ],
      "id": "1VLRI20WHp4h",
      "execution_count": null,
      "outputs": []
    },
    {
      "cell_type": "markdown",
      "metadata": {
        "id": "a05c2677"
      },
      "source": [
        "### Perform predictions on tests dataframe:\n",
        "- Test the model using the test dataframe\n",
        "- Select and show the feature column.\n",
        "- Print the schema of the output dataframe.\n",
        "- Select and show both prediction and label columns.\n",
        "- Explore the results for the label column stroke=1. i.e. select both columns (prediction,stroke) for stroke=1.<b>notice the result.</b> \n",
        "- Count the predicted 1 and 0 values.<b>notice the result.</b>   "
      ],
      "id": "a05c2677"
    },
    {
      "cell_type": "code",
      "metadata": {
        "id": "YEHq7rCULme8"
      },
      "source": [
        "PredDF=pipelineModel.transform(test_df)"
      ],
      "id": "YEHq7rCULme8",
      "execution_count": null,
      "outputs": []
    },
    {
      "cell_type": "code",
      "metadata": {
        "id": "S1tLwhZLMt9_",
        "colab": {
          "base_uri": "https://localhost:8080/"
        },
        "outputId": "f3bb78a5-d7ed-40b4-9f00-e335048eb02b"
      },
      "source": [
        "\tPredDF.select(\"features\").show(truncate=False)"
      ],
      "id": "S1tLwhZLMt9_",
      "execution_count": null,
      "outputs": [
        {
          "output_type": "stream",
          "name": "stdout",
          "text": [
            "+---------------------------------------------------------+\n",
            "|features                                                 |\n",
            "+---------------------------------------------------------+\n",
            "|(13,[1,5,6,7,8],[1.0,1.0,42.0,98.53,18.5])               |\n",
            "|(13,[1,6,7,8,9],[1.0,20.0,94.67,28.8,0.5])               |\n",
            "|(13,[0,1,6,7,8,9],[1.0,1.0,43.0,88.23,37.6,0.5])         |\n",
            "|(13,[0,1,5,6,7,8,10],[1.0,1.0,1.0,79.0,198.79,24.9,1.0]) |\n",
            "|(13,[0,1,5,6,7,8,9],[1.0,1.0,1.0,58.0,105.74,26.8,0.75]) |\n",
            "|(13,[0,3,5,6,7,8,9],[1.0,1.0,1.0,37.0,72.09,24.1,1.0])   |\n",
            "|(13,[4,6,7,8,9],[1.0,3.0,94.12,21.4,0.5])                |\n",
            "|(13,[4,6,7,8,9],[1.0,14.0,92.22,22.8,0.5])               |\n",
            "|(13,[3,6,7,8],[1.0,39.0,87.33,34.3])                     |\n",
            "|(13,[4,6,7,8,9],[1.0,5.0,75.1,20.7,0.5])                 |\n",
            "|(13,[0,2,5,6,7,8,9],[1.0,1.0,1.0,74.0,68.18,27.3,0.75])  |\n",
            "|(13,[1,6,7,8],[1.0,16.0,87.54,37.8])                     |\n",
            "|(13,[0,1,5,6,7,8,10],[1.0,1.0,1.0,34.0,83.75,37.0,1.0])  |\n",
            "|(13,[4,6,7,8,9,10],[1.0,3.0,65.85,17.0,0.5,1.0])         |\n",
            "|(13,[1,5,6,7,8],[1.0,1.0,14.0,83.42,28.7])               |\n",
            "|(13,[0,1,6,7,8,9],[1.0,1.0,68.0,211.06,39.3,0.5])        |\n",
            "|(13,[0,1,6,7,8],[1.0,1.0,45.0,87.47,21.5])               |\n",
            "|[1.0,0.0,1.0,0.0,0.0,1.0,33.0,90.68,31.7,1.0,1.0,0.0,0.0]|\n",
            "|(13,[0,2,5,6,7,8],[1.0,1.0,1.0,31.0,82.31,31.9])         |\n",
            "|(13,[0,1,6,7,8,9,11],[1.0,1.0,67.0,179.12,28.1,0.75,1.0])|\n",
            "+---------------------------------------------------------+\n",
            "only showing top 20 rows\n",
            "\n"
          ]
        }
      ]
    },
    {
      "cell_type": "code",
      "metadata": {
        "id": "XBPcmNH4NfJL",
        "colab": {
          "base_uri": "https://localhost:8080/"
        },
        "outputId": "be588c53-fa19-4d32-8a52-f077de1546c3"
      },
      "source": [
        "PredDF.printSchema()"
      ],
      "id": "XBPcmNH4NfJL",
      "execution_count": null,
      "outputs": [
        {
          "output_type": "stream",
          "name": "stdout",
          "text": [
            "root\n",
            " |-- id: integer (nullable = true)\n",
            " |-- gender: integer (nullable = true)\n",
            " |-- age: double (nullable = true)\n",
            " |-- hypertension: integer (nullable = true)\n",
            " |-- heart_disease: integer (nullable = true)\n",
            " |-- ever_married: string (nullable = true)\n",
            " |-- work_type: string (nullable = true)\n",
            " |-- Residence_type: string (nullable = true)\n",
            " |-- avg_glucose_level: double (nullable = true)\n",
            " |-- bmi: double (nullable = true)\n",
            " |-- smoking_status: double (nullable = true)\n",
            " |-- stroke: integer (nullable = true)\n",
            " |-- ever_married_Index: double (nullable = false)\n",
            " |-- work_type_Index: double (nullable = false)\n",
            " |-- Residence_type_Index: double (nullable = false)\n",
            " |-- ever_married_OHE: vector (nullable = true)\n",
            " |-- work_type_OHE: vector (nullable = true)\n",
            " |-- Residence_type_OHE: vector (nullable = true)\n",
            " |-- features: vector (nullable = true)\n",
            " |-- rawPrediction: vector (nullable = true)\n",
            " |-- probability: vector (nullable = true)\n",
            " |-- prediction: double (nullable = false)\n",
            "\n"
          ]
        }
      ]
    },
    {
      "cell_type": "code",
      "metadata": {
        "id": "O4-6FWzTNouA",
        "colab": {
          "base_uri": "https://localhost:8080/"
        },
        "outputId": "f838ab75-b227-4466-8944-b9869ae4ad2e"
      },
      "source": [
        "PredDF.select('stroke','prediction').show()"
      ],
      "id": "O4-6FWzTNouA",
      "execution_count": null,
      "outputs": [
        {
          "output_type": "stream",
          "name": "stdout",
          "text": [
            "+------+----------+\n",
            "|stroke|prediction|\n",
            "+------+----------+\n",
            "|     0|       0.0|\n",
            "|     0|       0.0|\n",
            "|     0|       0.0|\n",
            "|     0|       0.0|\n",
            "|     0|       0.0|\n",
            "|     0|       0.0|\n",
            "|     0|       0.0|\n",
            "|     0|       0.0|\n",
            "|     0|       0.0|\n",
            "|     0|       0.0|\n",
            "|     0|       0.0|\n",
            "|     0|       0.0|\n",
            "|     0|       0.0|\n",
            "|     0|       0.0|\n",
            "|     0|       0.0|\n",
            "|     1|       0.0|\n",
            "|     0|       0.0|\n",
            "|     0|       0.0|\n",
            "|     0|       0.0|\n",
            "|     1|       0.0|\n",
            "+------+----------+\n",
            "only showing top 20 rows\n",
            "\n"
          ]
        }
      ]
    },
    {
      "cell_type": "code",
      "metadata": {
        "id": "iAeJAZZ0OEUR",
        "colab": {
          "base_uri": "https://localhost:8080/"
        },
        "outputId": "9e0a82d9-b4f7-40ea-b1ba-0b88512477cc"
      },
      "source": [
        "PredDF.select('stroke','prediction').where(\"stroke=1\").show()"
      ],
      "id": "iAeJAZZ0OEUR",
      "execution_count": null,
      "outputs": [
        {
          "output_type": "stream",
          "name": "stdout",
          "text": [
            "+------+----------+\n",
            "|stroke|prediction|\n",
            "+------+----------+\n",
            "|     1|       0.0|\n",
            "|     1|       0.0|\n",
            "|     1|       0.0|\n",
            "|     1|       0.0|\n",
            "|     1|       0.0|\n",
            "|     1|       0.0|\n",
            "|     1|       0.0|\n",
            "|     1|       0.0|\n",
            "|     1|       0.0|\n",
            "|     1|       0.0|\n",
            "|     1|       0.0|\n",
            "|     1|       0.0|\n",
            "|     1|       0.0|\n",
            "|     1|       0.0|\n",
            "|     1|       0.0|\n",
            "|     1|       0.0|\n",
            "|     1|       0.0|\n",
            "|     1|       0.0|\n",
            "|     1|       0.0|\n",
            "|     1|       0.0|\n",
            "+------+----------+\n",
            "only showing top 20 rows\n",
            "\n"
          ]
        }
      ]
    },
    {
      "cell_type": "code",
      "metadata": {
        "id": "Br7kIMmZOtgb",
        "colab": {
          "base_uri": "https://localhost:8080/"
        },
        "outputId": "114f7237-21f9-46ea-b90f-e84a40908072"
      },
      "source": [
        "PredDF.toPandas()['prediction'].value_counts()"
      ],
      "id": "Br7kIMmZOtgb",
      "execution_count": null,
      "outputs": [
        {
          "output_type": "execute_result",
          "data": {
            "text/plain": [
              "0.0    918\n",
              "Name: prediction, dtype: int64"
            ]
          },
          "metadata": {},
          "execution_count": 53
        }
      ]
    },
    {
      "cell_type": "markdown",
      "metadata": {
        "id": "daec120f"
      },
      "source": [
        "### Evaluate the model performance\n",
        "- Use <b>BinaryClassificationEvaluator</b>. This will calculate the <b>ROC</b>.\n",
        "- Set the parameters as follow:\n",
        "    - <b>rawPredictionCol='prediction'</b> and <b>labelCol='stroke'</b>"
      ],
      "id": "daec120f"
    },
    {
      "cell_type": "code",
      "metadata": {
        "id": "a7b5ad25"
      },
      "source": [
        "from pyspark.ml.evaluation import BinaryClassificationEvaluator"
      ],
      "id": "a7b5ad25",
      "execution_count": null,
      "outputs": []
    },
    {
      "cell_type": "code",
      "metadata": {
        "id": "44d3a1e6"
      },
      "source": [
        "evaluatorROC = BinaryClassificationEvaluator(rawPredictionCol='prediction'\n",
        "                                             ,labelCol='stroke')"
      ],
      "id": "44d3a1e6",
      "execution_count": null,
      "outputs": []
    },
    {
      "cell_type": "code",
      "metadata": {
        "id": "3adbe41f",
        "colab": {
          "base_uri": "https://localhost:8080/"
        },
        "outputId": "ac3b095c-32bb-4609-9ad7-63c67f0a304b"
      },
      "source": [
        "\n",
        "evaluatorROC.evaluate(PredDF)"
      ],
      "id": "3adbe41f",
      "execution_count": null,
      "outputs": [
        {
          "output_type": "execute_result",
          "data": {
            "text/plain": [
              "0.5"
            ]
          },
          "metadata": {},
          "execution_count": 56
        }
      ]
    },
    {
      "cell_type": "markdown",
      "metadata": {
        "id": "40206589"
      },
      "source": [
        "### Improve Model Performance\n",
        "- You may noticed that <b>the target label is imbalanced</b>.\n",
        "- LogisticRegression classifier has a special parameter <b>weightCol</b> to deal with imbalanced class.\n",
        "- In order to use this parameter you must have a <b>weightCol</b> in your training dataframe.\n",
        "- In order to create this column you will need to define a <b>UDF</b> and apply it to the target label column.\n",
        "- Create a LogisticRegression classifier with <b>weightCol</b> parameter.\n",
        "- Build and train a pipeline model with the new LogisticRegression.\n",
        "- Perform the prediction on the test dataframe. \n",
        "- Select and show both prediction and label columns.\n",
        "- Explore the results for the label column stroke=1. i.e. select both columns (prediction,stroke) for stroke=1.<b>notice the result.</b> \n",
        "- Count the predicted 1 and 0 values.<b>notice the result.</b>   \n",
        "- Evaluate the model performance exactly as in the previous step.\n",
        "### YOU SHOULD OBTAIN  ROC > 0.65\n",
        "<BR>\n",
        "<b><font color='red'>Note: feel free to deal with the imbalanced cluster with the above method or another. However, you can only use methods applied on SPARK DATAFRAME</font></b>"
      ],
      "id": "40206589"
    },
    {
      "cell_type": "code",
      "metadata": {
        "id": "R-dE1pqGPiJo"
      },
      "source": [
        "# Import LogisticRegression\n",
        "from pyspark.ml.classification import LogisticRegression\n",
        "\n",
        "# define class weights\n",
        "w = {0:1, 1:99}\n",
        "# Create a LogisticRegression Estimator\n",
        "lr = LogisticRegression(labelCol='stroke',featuresCol='features',weightCol=\"newWeight\")"
      ],
      "id": "R-dE1pqGPiJo",
      "execution_count": null,
      "outputs": []
    },
    {
      "cell_type": "code",
      "metadata": {
        "id": "mvZjd53CdVpg"
      },
      "source": [
        "from pyspark.sql.functions import *\n",
        "def create(stro):\n",
        "    if stro == 1:\n",
        "        return 99\n",
        "    else : \n",
        "        return 1\n",
        "    \n",
        "udf1=udf(lambda a:create(a))"
      ],
      "id": "mvZjd53CdVpg",
      "execution_count": null,
      "outputs": []
    },
    {
      "cell_type": "code",
      "metadata": {
        "id": "c3YtbqXOfACA",
        "colab": {
          "base_uri": "https://localhost:8080/"
        },
        "outputId": "a7561392-3938-49e2-fae0-448fe4c98d13"
      },
      "source": [
        "train_df=train_df.withColumn('newWeight', udf1(\"stroke\"))\n",
        "train_df.show()"
      ],
      "id": "c3YtbqXOfACA",
      "execution_count": null,
      "outputs": [
        {
          "output_type": "stream",
          "name": "stdout",
          "text": [
            "+---+------+----+------------+-------------+------------+-------------+--------------+-----------------+----+--------------+------+---------+\n",
            "| id|gender| age|hypertension|heart_disease|ever_married|    work_type|Residence_type|avg_glucose_level| bmi|smoking_status|stroke|newWeight|\n",
            "+---+------+----+------------+-------------+------------+-------------+--------------+-----------------+----+--------------+------+---------+\n",
            "| 77|     0|13.0|           0|            0|          No|     children|         Rural|            85.81|18.6|           0.5|     0|        1|\n",
            "| 84|     1|55.0|           0|            0|         Yes|      Private|         Urban|            89.17|31.5|           0.0|     0|        1|\n",
            "| 99|     0|31.0|           0|            0|          No|      Private|         Urban|           108.89|52.3|           0.5|     0|        1|\n",
            "|129|     0|24.0|           0|            0|          No|      Private|         Urban|            97.55|26.2|           0.0|     0|        1|\n",
            "|156|     0|33.0|           0|            0|         Yes|      Private|         Rural|            86.97|42.2|           0.0|     0|        1|\n",
            "|187|     0|20.0|           0|            0|          No|      Private|         Rural|            84.07|27.6|           1.0|     0|        1|\n",
            "|210|     1|81.0|           0|            0|         Yes|Self-employed|         Rural|            91.54|31.4|           0.0|     1|       99|\n",
            "|239|     1|59.0|           1|            1|         Yes|      Private|         Rural|           246.53|27.2|          0.75|     0|        1|\n",
            "|242|     1| 4.0|           0|            0|          No|     children|         Urban|            98.56|17.5|           0.5|     0|        1|\n",
            "|247|     1|31.0|           0|            0|          No|      Private|         Urban|             72.6|31.6|           0.0|     0|        1|\n",
            "|315|     1|45.0|           0|            0|         Yes|      Private|         Rural|            65.42|39.7|           0.0|     0|        1|\n",
            "|321|     0|79.0|           0|            0|          No|Self-employed|         Rural|            71.98|36.4|           0.0|     0|        1|\n",
            "|338|     0|43.0|           0|            0|         Yes|      Private|         Rural|           110.32|28.4|           0.0|     0|        1|\n",
            "|354|     0|65.0|           0|            0|         Yes|      Private|         Urban|            72.49|28.9|           1.0|     0|        1|\n",
            "|355|     1| 8.0|           0|            0|          No|     children|         Rural|            96.43|25.7|           0.5|     0|        1|\n",
            "|365|     0|44.0|           1|            0|         Yes|      Private|         Rural|            69.48|41.3|           0.0|     0|        1|\n",
            "|394|     1|78.0|           1|            0|         Yes|Self-employed|         Rural|            75.19|27.6|           0.0|     0|        1|\n",
            "|452|     1|48.0|           1|            0|         Yes|      Private|         Urban|           173.14|37.0|           1.0|     0|        1|\n",
            "|464|     1|46.0|           0|            0|         Yes|      Private|         Rural|            78.44|23.9|           0.0|     0|        1|\n",
            "|479|     0|59.0|           1|            0|         Yes|      Private|         Rural|            78.28|31.0|          0.75|     0|        1|\n",
            "+---+------+----+------------+-------------+------------+-------------+--------------+-----------------+----+--------------+------+---------+\n",
            "only showing top 20 rows\n",
            "\n"
          ]
        }
      ]
    },
    {
      "cell_type": "code",
      "metadata": {
        "id": "ciXYHKFOgHAj"
      },
      "source": [
        "train_df = train_df.withColumn(\"newWeight\", train_df[\"newWeight\"].cast(IntegerType()))\n"
      ],
      "id": "ciXYHKFOgHAj",
      "execution_count": null,
      "outputs": []
    },
    {
      "cell_type": "code",
      "metadata": {
        "id": "NDmG3gU-bNlx"
      },
      "source": [
        "# Building the pipeline\n",
        "from pyspark.ml import Pipeline\n",
        "\n",
        "\n",
        "pipeline =Pipeline(stages = [stringIndexer,oheEncoder,vecAssembler,lr])\n",
        "pipelineModel = pipeline.fit(train_df)"
      ],
      "id": "NDmG3gU-bNlx",
      "execution_count": null,
      "outputs": []
    },
    {
      "cell_type": "code",
      "metadata": {
        "id": "zbyvG5nEgVlj"
      },
      "source": [
        "PredDF2=pipelineModel.transform(test_df)"
      ],
      "id": "zbyvG5nEgVlj",
      "execution_count": null,
      "outputs": []
    },
    {
      "cell_type": "code",
      "metadata": {
        "id": "00e034e9",
        "colab": {
          "base_uri": "https://localhost:8080/"
        },
        "outputId": "04c0ba0c-a895-4800-ed4b-0dd4011747c0"
      },
      "source": [
        "evaluatorROC.evaluate(PredDF2)"
      ],
      "id": "00e034e9",
      "execution_count": null,
      "outputs": [
        {
          "output_type": "execute_result",
          "data": {
            "text/plain": [
              "0.7295918367346939"
            ]
          },
          "metadata": {},
          "execution_count": 64
        }
      ]
    },
    {
      "cell_type": "markdown",
      "metadata": {
        "id": "e00e7b53"
      },
      "source": [
        "# GOOD LUCK\n",
        "<b><font color='GREEN'>AI-PRO Spark Team ITI</font></b>"
      ],
      "id": "e00e7b53"
    }
  ]
}